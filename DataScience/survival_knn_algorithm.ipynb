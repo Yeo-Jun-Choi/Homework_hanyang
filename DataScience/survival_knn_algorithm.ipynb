{
 "cells": [
  {
   "cell_type": "markdown",
   "metadata": {},
   "source": [
    "# Classification using Haberman's Survival Data Set\n",
    "\n",
    "This is a reimplementation of the K-Nearest Neighbors algorithm using plain Python.\n",
    "\n",
    "In my opinion it is important to understand the \"low level\", not just the abstraction.\n",
    "\n",
    "Data Set: [Haberman's Survival Data Set](https://archive.ics.uci.edu/ml/datasets/Haberman%27s+Survival)"
   ]
  },
  {
   "cell_type": "code",
   "execution_count": 56,
   "metadata": {},
   "outputs": [],
   "source": [
    "import math\n",
    "import pandas as pd\n",
    "import numpy as np"
   ]
  },
  {
   "cell_type": "code",
   "execution_count": 57,
   "metadata": {},
   "outputs": [],
   "source": [
    "data = []"
   ]
  },
  {
   "cell_type": "markdown",
   "metadata": {},
   "source": [
    "##### Import the data and append it to the list \n",
    "\n",
    "[age_of_the_patient, year_of_operation, number_of_nodes_detected, survival_status]\n",
    "\n",
    "Check the data set's link above for more details"
   ]
  },
  {
   "cell_type": "code",
   "execution_count": 58,
   "metadata": {},
   "outputs": [],
   "source": [
    "with open('dataset.data', 'r') as f:\n",
    "    for line in f.readlines():\n",
    "        atributes = line.strip('\\n').split(',')\n",
    "        data.append([int(x) for x in atributes])\n",
    "# 'dataset'에 값들을 4개씩 쪼개서 'data' 라는 이름의 list에 입력"
   ]
  },
  {
   "cell_type": "markdown",
   "metadata": {},
   "source": [
    "### Data nomalize(True)"
   ]
  },
  {
   "cell_type": "code",
   "execution_count": 59,
   "metadata": {},
   "outputs": [],
   "source": [
    "df=pd.DataFrame(data)"
   ]
  },
  {
   "cell_type": "code",
   "execution_count": 60,
   "metadata": {
    "scrolled": true
   },
   "outputs": [
    {
     "data": {
      "text/html": [
       "<div>\n",
       "<style scoped>\n",
       "    .dataframe tbody tr th:only-of-type {\n",
       "        vertical-align: middle;\n",
       "    }\n",
       "\n",
       "    .dataframe tbody tr th {\n",
       "        vertical-align: top;\n",
       "    }\n",
       "\n",
       "    .dataframe thead th {\n",
       "        text-align: right;\n",
       "    }\n",
       "</style>\n",
       "<table border=\"1\" class=\"dataframe\">\n",
       "  <thead>\n",
       "    <tr style=\"text-align: right;\">\n",
       "      <th></th>\n",
       "      <th>0</th>\n",
       "      <th>1</th>\n",
       "      <th>2</th>\n",
       "      <th>3</th>\n",
       "    </tr>\n",
       "  </thead>\n",
       "  <tbody>\n",
       "    <tr>\n",
       "      <th>count</th>\n",
       "      <td>306.000000</td>\n",
       "      <td>306.000000</td>\n",
       "      <td>306.000000</td>\n",
       "      <td>306.000000</td>\n",
       "    </tr>\n",
       "    <tr>\n",
       "      <th>mean</th>\n",
       "      <td>52.457516</td>\n",
       "      <td>62.852941</td>\n",
       "      <td>4.026144</td>\n",
       "      <td>1.264706</td>\n",
       "    </tr>\n",
       "    <tr>\n",
       "      <th>std</th>\n",
       "      <td>10.803452</td>\n",
       "      <td>3.249405</td>\n",
       "      <td>7.189654</td>\n",
       "      <td>0.441899</td>\n",
       "    </tr>\n",
       "    <tr>\n",
       "      <th>min</th>\n",
       "      <td>30.000000</td>\n",
       "      <td>58.000000</td>\n",
       "      <td>0.000000</td>\n",
       "      <td>1.000000</td>\n",
       "    </tr>\n",
       "    <tr>\n",
       "      <th>25%</th>\n",
       "      <td>44.000000</td>\n",
       "      <td>60.000000</td>\n",
       "      <td>0.000000</td>\n",
       "      <td>1.000000</td>\n",
       "    </tr>\n",
       "    <tr>\n",
       "      <th>50%</th>\n",
       "      <td>52.000000</td>\n",
       "      <td>63.000000</td>\n",
       "      <td>1.000000</td>\n",
       "      <td>1.000000</td>\n",
       "    </tr>\n",
       "    <tr>\n",
       "      <th>75%</th>\n",
       "      <td>60.750000</td>\n",
       "      <td>65.750000</td>\n",
       "      <td>4.000000</td>\n",
       "      <td>2.000000</td>\n",
       "    </tr>\n",
       "    <tr>\n",
       "      <th>max</th>\n",
       "      <td>83.000000</td>\n",
       "      <td>69.000000</td>\n",
       "      <td>52.000000</td>\n",
       "      <td>2.000000</td>\n",
       "    </tr>\n",
       "  </tbody>\n",
       "</table>\n",
       "</div>"
      ],
      "text/plain": [
       "                0           1           2           3\n",
       "count  306.000000  306.000000  306.000000  306.000000\n",
       "mean    52.457516   62.852941    4.026144    1.264706\n",
       "std     10.803452    3.249405    7.189654    0.441899\n",
       "min     30.000000   58.000000    0.000000    1.000000\n",
       "25%     44.000000   60.000000    0.000000    1.000000\n",
       "50%     52.000000   63.000000    1.000000    1.000000\n",
       "75%     60.750000   65.750000    4.000000    2.000000\n",
       "max     83.000000   69.000000   52.000000    2.000000"
      ]
     },
     "execution_count": 60,
     "metadata": {},
     "output_type": "execute_result"
    }
   ],
   "source": [
    "df.describe()"
   ]
  },
  {
   "cell_type": "code",
   "execution_count": 61,
   "metadata": {},
   "outputs": [],
   "source": [
    "stan_df=(df-df.mean())/df.std()"
   ]
  },
  {
   "cell_type": "code",
   "execution_count": 62,
   "metadata": {},
   "outputs": [],
   "source": [
    "add = df[3].values\n",
    "stan_df[3] = add"
   ]
  },
  {
   "cell_type": "code",
   "execution_count": 63,
   "metadata": {},
   "outputs": [],
   "source": [
    "data=stan_df.values"
   ]
  },
  {
   "cell_type": "markdown",
   "metadata": {},
   "source": [
    "##### Auxiliary function to help the visualization\n",
    "Also returns key information of the data set"
   ]
  },
  {
   "cell_type": "code",
   "execution_count": 64,
   "metadata": {},
   "outputs": [],
   "source": [
    "def info_dataset(data, verbose=True):\n",
    "    label1, label2 = 0, 0\n",
    "    data_size = len(data)\n",
    "    for datum in data:\n",
    "        if datum[-1] == 1:\n",
    "            label1 += 1\n",
    "        else:\n",
    "            label2 += 1\n",
    "    if verbose:\n",
    "        print('Total of samples: %d' % data_size)\n",
    "        print('Total label 1: %d' % label1)\n",
    "        print('Total label 2: %d' % label2)\n",
    "    return [len(data), label1, label2]\n",
    "# 'dataset'을 label화 하기 위한 class\n",
    "# verbose는 식을 표현하기 위한 도구에 불과하니, 그렇게 큰 신경을 쓸 필요는 없음"
   ]
  },
  {
   "cell_type": "code",
   "execution_count": 65,
   "metadata": {
    "scrolled": true
   },
   "outputs": [
    {
     "name": "stdout",
     "output_type": "stream",
     "text": [
      "Total of samples: 306\n",
      "Total label 1: 225\n",
      "Total label 2: 81\n"
     ]
    },
    {
     "data": {
      "text/plain": [
       "[306, 225, 81]"
      ]
     },
     "execution_count": 65,
     "metadata": {},
     "output_type": "execute_result"
    }
   ],
   "source": [
    "info_dataset(data)"
   ]
  },
  {
   "cell_type": "markdown",
   "metadata": {},
   "source": [
    "##### Define the train/total percentage"
   ]
  },
  {
   "cell_type": "code",
   "execution_count": 66,
   "metadata": {},
   "outputs": [],
   "source": [
    "p = 0.6\n",
    "_, label1, label2 = info_dataset(data,False)\n",
    "# labelling한 데이터를 data data, train data로 나누기 위한 것\n",
    "# 60%는 train_data, 40%는 test_data"
   ]
  },
  {
   "cell_type": "markdown",
   "metadata": {},
   "source": [
    "##### Split the data set into train set and test set"
   ]
  },
  {
   "cell_type": "code",
   "execution_count": 67,
   "metadata": {},
   "outputs": [],
   "source": [
    "train_set, test_set = [], []\n",
    "max_label1, max_label2 = int(p * label1), int(p * label2)\n",
    "total_label1, total_label2 = 0, 0\n",
    "for sample in data:\n",
    "    if (total_label1 + total_label2) < (max_label1 + max_label2):\n",
    "        train_set.append(sample)\n",
    "        if sample[-1] == 1 and total_label1 < max_label1:\n",
    "            total_label1 += 1\n",
    "        else:\n",
    "            total_label2 += 1\n",
    "    else:\n",
    "        test_set.append(sample)\n",
    "# data 분류 해서 train_data, test_data로 분류"
   ]
  },
  {
   "cell_type": "markdown",
   "metadata": {},
   "source": [
    "##### Define function to calculate the euclidian distance between two points\n",
    "[Euclidian Distance - Wikipedia](https://en.wikipedia.org/wiki/Euclidean_distance)"
   ]
  },
  {
   "cell_type": "code",
   "execution_count": 68,
   "metadata": {},
   "outputs": [],
   "source": [
    "def manhattan_dist(p1, p2):\n",
    "    dim, sum_ = len(p1), 0\n",
    "    for index in range(dim-1):\n",
    "        sum_ += abs(p1[index]-p2[index])\n",
    "    return sum_\n",
    "# 맨해튼 거리 구하는 클래스"
   ]
  },
  {
   "cell_type": "markdown",
   "metadata": {},
   "source": [
    "##### Calculates the distance between a given sample and every other in the train set\n",
    "Feeds its distances to a dictionary, the sort it and gets the nearest K neighbors;\n",
    "Then it counts witch of the labels is the most recurring, and returns it. "
   ]
  },
  {
   "cell_type": "code",
   "execution_count": 69,
   "metadata": {},
   "outputs": [],
   "source": [
    "def knn_manhattan(train_set, new_sample,K):\n",
    "    dists, train_size = {}, len(train_set)\n",
    "    \n",
    "    for i in range(train_size):\n",
    "        d = manhattan_dist(train_set[i],new_sample)\n",
    "        dists[i] = d\n",
    "        \n",
    "    k_neighbors = sorted(dists,key=dists.get)[:K]\n",
    "    \n",
    "    qty_label1, qty_label2 = 0, 0\n",
    "    \n",
    "    for index in k_neighbors:\n",
    "        if train_set[index][-1] == 1:\n",
    "            qty_label1 +=1\n",
    "        else:\n",
    "            qty_label2 +=1\n",
    "    \n",
    "    if qty_label1>qty_label2:\n",
    "        return 1\n",
    "    else:\n",
    "        return 2\n",
    "#knn_manhattan 알고리즘 클래스.\n",
    "# train_set을 입력받아 knn 평가 알고리즘을 형성하고, new_sample을 매게변수로 받아\n",
    "# new_sample을 labelling한다. (K-nearest로)"
   ]
  },
  {
   "cell_type": "markdown",
   "metadata": {},
   "source": [
    "##### Example"
   ]
  },
  {
   "cell_type": "code",
   "execution_count": 70,
   "metadata": {
    "scrolled": false
   },
   "outputs": [
    {
     "name": "stdout",
     "output_type": "stream",
     "text": [
      "[ 0.97584395 -0.5702402   0.6918075   1.        ]\n",
      "1\n"
     ]
    }
   ],
   "source": [
    "print(test_set[0])\n",
    "print(knn_manhattan(train_set, test_set[68], 15))"
   ]
  },
  {
   "cell_type": "markdown",
   "metadata": {},
   "source": [
    "##### Counts the correct predictions of the test set with a given K"
   ]
  },
  {
   "cell_type": "code",
   "execution_count": 81,
   "metadata": {},
   "outputs": [],
   "source": [
    "correct, K = 0, 15\n",
    "list_manhattan =[]\n",
    "for sample in test_set:\n",
    "    label = knn_manhattan(train_set, sample, K)\n",
    "    list_manhattan.append(label)\n",
    "    if sample[-1] == label:\n",
    "        correct += 1\n",
    "# test set의 데이터 중 몇개가 정확한지(correct) 평가하는 것."
   ]
  },
  {
   "cell_type": "code",
   "execution_count": 82,
   "metadata": {
    "scrolled": false
   },
   "outputs": [
    {
     "name": "stdout",
     "output_type": "stream",
     "text": [
      "Train set size: 183\n",
      "Test set size: 123\n",
      "Correct predicitons: 94\n",
      "Accuracy: 76.42%\n"
     ]
    }
   ],
   "source": [
    "print(\"Train set size: %d\" % len(train_set))\n",
    "print(\"Test set size: %d\" % len(test_set))\n",
    "print(\"Correct predicitons: %d\" % correct)\n",
    "print(\"Accuracy: %.2f%%\" % (100 * correct / len(test_set)))"
   ]
  },
  {
   "cell_type": "code",
   "execution_count": 102,
   "metadata": {},
   "outputs": [],
   "source": [
    "list_test=[]\n",
    "for i in test_set:\n",
    "    list_test.append(i[3])"
   ]
  },
  {
   "cell_type": "code",
   "execution_count": 103,
   "metadata": {},
   "outputs": [],
   "source": [
    "list_test=pd.Series(list_test)"
   ]
  },
  {
   "cell_type": "code",
   "execution_count": 104,
   "metadata": {},
   "outputs": [],
   "source": [
    "list_manhattan=pd.Series(list_manhattan)"
   ]
  },
  {
   "cell_type": "code",
   "execution_count": 117,
   "metadata": {},
   "outputs": [],
   "source": [
    "result=pd.crosstab(list_test,list_manhattan,rownames=['True'],colnames=['Predicted'],margins=True)"
   ]
  },
  {
   "cell_type": "code",
   "execution_count": 118,
   "metadata": {
    "scrolled": false
   },
   "outputs": [
    {
     "data": {
      "text/html": [
       "<div>\n",
       "<style scoped>\n",
       "    .dataframe tbody tr th:only-of-type {\n",
       "        vertical-align: middle;\n",
       "    }\n",
       "\n",
       "    .dataframe tbody tr th {\n",
       "        vertical-align: top;\n",
       "    }\n",
       "\n",
       "    .dataframe thead th {\n",
       "        text-align: right;\n",
       "    }\n",
       "</style>\n",
       "<table border=\"1\" class=\"dataframe\">\n",
       "  <thead>\n",
       "    <tr style=\"text-align: right;\">\n",
       "      <th>Predicted</th>\n",
       "      <th>Predicted Negative</th>\n",
       "      <th>Predicted Postive</th>\n",
       "      <th>total</th>\n",
       "    </tr>\n",
       "    <tr>\n",
       "      <th>True</th>\n",
       "      <th></th>\n",
       "      <th></th>\n",
       "      <th></th>\n",
       "    </tr>\n",
       "  </thead>\n",
       "  <tbody>\n",
       "    <tr>\n",
       "      <th>True Negative</th>\n",
       "      <td>84</td>\n",
       "      <td>9</td>\n",
       "      <td>93</td>\n",
       "    </tr>\n",
       "    <tr>\n",
       "      <th>True Positive</th>\n",
       "      <td>20</td>\n",
       "      <td>10</td>\n",
       "      <td>30</td>\n",
       "    </tr>\n",
       "    <tr>\n",
       "      <th>total</th>\n",
       "      <td>104</td>\n",
       "      <td>19</td>\n",
       "      <td>123</td>\n",
       "    </tr>\n",
       "  </tbody>\n",
       "</table>\n",
       "</div>"
      ],
      "text/plain": [
       "Predicted      Predicted Negative  Predicted Postive  total\n",
       "True                                                       \n",
       "True Negative                  84                  9     93\n",
       "True Positive                  20                 10     30\n",
       "total                         104                 19    123"
      ]
     },
     "execution_count": 118,
     "metadata": {},
     "output_type": "execute_result"
    }
   ],
   "source": [
    "result.rename(index={1:\"True Negative\",2:\"True Positive\",\"All\":\"total\"},columns={1:\"Predicted Negative\",2:\"Predicted Postive\",\"All\":\"total\"})"
   ]
  },
  {
   "cell_type": "markdown",
   "metadata": {},
   "source": [
    "## Q.3"
   ]
  },
  {
   "cell_type": "code",
   "execution_count": 119,
   "metadata": {},
   "outputs": [],
   "source": [
    "TN=result[1][1]\n",
    "FN=result[1][2]\n",
    "FP=result[2][1]\n",
    "TP=result[2][2]\n",
    "N=result['All'][1] # 1 예측\n",
    "P=result['All'][2] # 2 예측\n",
    "N_=result[1]['All'] # 실제 1\n",
    "P_=result[2]['All'] # 실제 2"
   ]
  },
  {
   "cell_type": "code",
   "execution_count": 120,
   "metadata": {
    "scrolled": true
   },
   "outputs": [
    {
     "name": "stdout",
     "output_type": "stream",
     "text": [
      "Accuracy : 76.42%\n",
      "Precision : 52.63%\n",
      "Recall : 33.33%\n",
      "False Positive(rate) : 47.37%\n",
      "True Positive(rate) : 52.63%\n"
     ]
    }
   ],
   "source": [
    "print(\"Accuracy : %.2f%%\"%(100*(TN+TP)/(TN+FP+FN+TP)))\n",
    "print(\"Precision : %.2f%%\"%(100*TP/P_))\n",
    "print(\"Recall : %.2f%%\"%(100*TP/P))\n",
    "print(\"False Positive(rate) : %.2f%%\"%(100*FP/P_))\n",
    "print(\"True Positive(rate) : %.2f%%\"%(100*TP/P_))"
   ]
  },
  {
   "cell_type": "code",
   "execution_count": null,
   "metadata": {},
   "outputs": [],
   "source": []
  }
 ],
 "metadata": {
  "kernelspec": {
   "display_name": "Python 3",
   "language": "python",
   "name": "python3"
  },
  "language_info": {
   "codemirror_mode": {
    "name": "ipython",
    "version": 3
   },
   "file_extension": ".py",
   "mimetype": "text/x-python",
   "name": "python",
   "nbconvert_exporter": "python",
   "pygments_lexer": "ipython3",
   "version": "3.7.6"
  }
 },
 "nbformat": 4,
 "nbformat_minor": 2
}
